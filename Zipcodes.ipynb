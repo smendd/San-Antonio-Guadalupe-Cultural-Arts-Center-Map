{
 "cells": [
  {
   "cell_type": "code",
   "execution_count": 1,
   "id": "4a3f821b-e006-45d5-9206-ed70c96b52bd",
   "metadata": {},
   "outputs": [],
   "source": [
    "import pandas as pd\n",
    "import geopandas as gpd\n",
    "import plotly.express as px\n",
    "from shapely.geometry import Point,LineString\n",
    "import matplotlib.pyplot as plt\n",
    "import numpy as np\n",
    "from ast import literal_eval as make_tuple\n",
    "%matplotlib inline"
   ]
  },
  {
   "cell_type": "code",
   "execution_count": 2,
   "id": "650ba18e-0cda-42f4-be83-e38e3294955b",
   "metadata": {},
   "outputs": [],
   "source": [
    "us_zipcodes = gpd.read_file('tl_2023_us_zcta520/tl_2023_us_zcta520.shp')\n",
    "us_county = gpd.read_file('tl_2020_us_county/tl_2020_us_county.shp')\n",
    "us_state = gpd.read_file('tl_2020_us_state/tl_2020_us_state.shp')\n",
    "zipcode_money_data = pd.read_csv('CleanZipcodeDataNewNew.csv')"
   ]
  },
  {
   "cell_type": "code",
   "execution_count": 3,
   "id": "7b9cc77a-a842-427a-9d3b-2073de08f8b1",
   "metadata": {},
   "outputs": [
    {
     "data": {
      "text/plain": [
       "206"
      ]
     },
     "execution_count": 3,
     "metadata": {},
     "output_type": "execute_result"
    }
   ],
   "source": [
    "us_zipcodes['ZCTA5CE20'] = us_zipcodes['ZCTA5CE20'].astype(int)\n",
    "zipcode_money_data['ZCTA5CE20'] = zipcode_money_data['ZCTA5CE20'].astype(int)\n",
    "zipcode_data = us_zipcodes.merge(zipcode_money_data,how = 'right' ,on = 'ZCTA5CE20')\n",
    "zipcode_data.shape[0]"
   ]
  },
  {
   "cell_type": "code",
   "execution_count": 4,
   "id": "c96f69c3-bee8-40ed-8664-092ff2371188",
   "metadata": {},
   "outputs": [],
   "source": [
    "zipcode_data['Centroid'] = np.where(zipcode_data['geometry'] != None , \n",
    "                                    zipcode_data['geometry'].to_crs('+proj=cea').centroid.to_crs(zipcode_data['geometry'].crs), None)\n"
   ]
  },
  {
   "cell_type": "code",
   "execution_count": 5,
   "id": "987edb33-16ed-465b-8c9a-1b2701ead284",
   "metadata": {},
   "outputs": [],
   "source": [
    "missing_zipcode_data = pd.read_csv('missing_zipcode_data.csv')\n"
   ]
  },
  {
   "cell_type": "code",
   "execution_count": 6,
   "id": "761f2733-2bb9-44a4-9aae-451a2ad63e8a",
   "metadata": {},
   "outputs": [
    {
     "name": "stderr",
     "output_type": "stream",
     "text": [
      "/var/folders/7t/y5fl09j137v1_49j8q0zc3900000gn/T/ipykernel_14316/3074340002.py:3: SettingWithCopyWarning: \n",
      "A value is trying to be set on a copy of a slice from a DataFrame\n",
      "\n",
      "See the caveats in the documentation: https://pandas.pydata.org/pandas-docs/stable/user_guide/indexing.html#returning-a-view-versus-a-copy\n",
      "  missing_zipcode_data['point'][i] = list(missing_zipcode_data['centerpoint'][i].split(\", \"))\n",
      "/var/folders/7t/y5fl09j137v1_49j8q0zc3900000gn/T/ipykernel_14316/3074340002.py:7: SettingWithCopyWarning: \n",
      "A value is trying to be set on a copy of a slice from a DataFrame\n",
      "\n",
      "See the caveats in the documentation: https://pandas.pydata.org/pandas-docs/stable/user_guide/indexing.html#returning-a-view-versus-a-copy\n",
      "  missing_zipcode_data['point'][i] = tuple(missing_zipcode_data['point'][i])\n"
     ]
    }
   ],
   "source": [
    "missing_zipcode_data['point'] = ''\n",
    "for i in range(38):\n",
    "    missing_zipcode_data['point'][i] = list(missing_zipcode_data['centerpoint'][i].split(\", \"))\n",
    "    for j in range(2):\n",
    "        missing_zipcode_data['point'][i][j] = float(missing_zipcode_data['point'][i][j])\n",
    "        \n",
    "    missing_zipcode_data['point'][i] = tuple(missing_zipcode_data['point'][i])\n",
    "    "
   ]
  },
  {
   "cell_type": "code",
   "execution_count": 7,
   "id": "d6f242ab-3366-4e18-a29c-3133942feeec",
   "metadata": {},
   "outputs": [],
   "source": [
    "lat = []\n",
    "long = []\n",
    "for cord in missing_zipcode_data['point']:\n",
    "    lat.append(cord[0])\n",
    "    long.append(cord[1])\n",
    "    \n",
    "missing_zipcode_data['Latitude'] = lat\n",
    "missing_zipcode_data['Longitude'] = long\n",
    "\n",
    "missing_zipcode_data_gpd = gpd.GeoDataFrame(\n",
    "    missing_zipcode_data, geometry=gpd.points_from_xy(missing_zipcode_data.Longitude, missing_zipcode_data.Latitude), crs=\"EPSG:4269\"\n",
    ")\n",
    "\n",
    "\n",
    "final_missing = missing_zipcode_data_gpd.drop(['centerpoint','point','Latitude','Longitude'],axis = 1)\n",
    "final_missing['Centroid'] = final_missing['geometry']"
   ]
  },
  {
   "cell_type": "code",
   "execution_count": 8,
   "id": "29cb4851-d87f-40d7-9c03-22e4e288c320",
   "metadata": {},
   "outputs": [],
   "source": [
    "final_data = zipcode_data.merge(final_missing, on = 'ZCTA5CE20', how = 'left', suffixes = ('','_y'))\n",
    "final_data['Centroid'] = np.where(final_data['geometry'] == None, final_data['Centroid_y'], final_data['Centroid'])"
   ]
  },
  {
   "cell_type": "code",
   "execution_count": 9,
   "id": "c9cc1935-ec56-4edb-8aae-863d58f702ac",
   "metadata": {
    "tags": []
   },
   "outputs": [],
   "source": [
    "data = final_data.drop([12,29,70])\n",
    "# we deleted zipcodes 28950, 70149, 78200\n",
    "# these are indexes 12, 29, 70\n",
    "data = data.drop(['geometry_y', 'Centroid_y'],axis = 1)\n"
   ]
  },
  {
   "cell_type": "code",
   "execution_count": 10,
   "id": "ccae5862-cedb-40b8-b338-857c2633a77b",
   "metadata": {},
   "outputs": [],
   "source": [
    "data[['2019-2020','2020-2021','2021-2022','2022-2023','2023-2024','Total']] = data[['2019-2020','2020-2021','2021-2022','2022-2023','2023-2024','Total']].apply(pd.to_numeric)"
   ]
  },
  {
   "cell_type": "code",
   "execution_count": 13,
   "id": "df606209-68ef-43ae-a42c-f00d9fa60f0b",
   "metadata": {},
   "outputs": [
    {
     "data": {
      "text/plain": [
       "<Geographic 2D CRS: EPSG:4269>\n",
       "Name: NAD83\n",
       "Axis Info [ellipsoidal]:\n",
       "- Lat[north]: Geodetic latitude (degree)\n",
       "- Lon[east]: Geodetic longitude (degree)\n",
       "Area of Use:\n",
       "- name: North America - onshore and offshore: Canada - Alberta; British Columbia; Manitoba; New Brunswick; Newfoundland and Labrador; Northwest Territories; Nova Scotia; Nunavut; Ontario; Prince Edward Island; Quebec; Saskatchewan; Yukon. Puerto Rico. United States (USA) - Alabama; Alaska; Arizona; Arkansas; California; Colorado; Connecticut; Delaware; Florida; Georgia; Hawaii; Idaho; Illinois; Indiana; Iowa; Kansas; Kentucky; Louisiana; Maine; Maryland; Massachusetts; Michigan; Minnesota; Mississippi; Missouri; Montana; Nebraska; Nevada; New Hampshire; New Jersey; New Mexico; New York; North Carolina; North Dakota; Ohio; Oklahoma; Oregon; Pennsylvania; Rhode Island; South Carolina; South Dakota; Tennessee; Texas; Utah; Vermont; Virginia; Washington; West Virginia; Wisconsin; Wyoming. US Virgin Islands. British Virgin Islands.\n",
       "- bounds: (167.65, 14.92, -40.73, 86.45)\n",
       "Datum: North American Datum 1983\n",
       "- Ellipsoid: GRS 1980\n",
       "- Prime Meridian: Greenwich"
      ]
     },
     "execution_count": 13,
     "metadata": {},
     "output_type": "execute_result"
    }
   ],
   "source": [
    "#data['Size'] = data['Total']/10000\n",
    "\n",
    "#data.to_csv('Final_Data.csv')"
   ]
  },
  {
   "cell_type": "code",
   "execution_count": null,
   "id": "c748b2f1-b2ae-4edd-a0db-e278af2789f0",
   "metadata": {},
   "outputs": [],
   "source": []
  },
  {
   "cell_type": "code",
   "execution_count": null,
   "id": "70e015bd-73c8-418b-b7eb-8b29e14d2691",
   "metadata": {},
   "outputs": [],
   "source": []
  }
 ],
 "metadata": {
  "kernelspec": {
   "display_name": "Python 3 (ipykernel)",
   "language": "python",
   "name": "python3"
  },
  "language_info": {
   "codemirror_mode": {
    "name": "ipython",
    "version": 3
   },
   "file_extension": ".py",
   "mimetype": "text/x-python",
   "name": "python",
   "nbconvert_exporter": "python",
   "pygments_lexer": "ipython3",
   "version": "3.9.13"
  }
 },
 "nbformat": 4,
 "nbformat_minor": 5
}
